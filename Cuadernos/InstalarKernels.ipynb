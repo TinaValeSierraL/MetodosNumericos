{
 "cells": [
  {
   "cell_type": "markdown",
   "metadata": {},
   "source": [
    "### Instalando Kernels\n",
    "\n",
    "**El kernel es el núcleo del sistema operativo, ya que es el encargado de gestionar los recursos del terminal Android que se tiene**\n",
    "\n",
    "* Primero instalar R. \n",
    "\n",
    "![ImgR](https://github.com/TinaValeSierraL/MetodosNumericos/blob/master/Imagenes/instalarR.PNG?raw=true)\n",
    "\n",
    "![imgR](https://github.com/TinaValeSierraL/MetodosNumericos/blob/master/Imagenes/instalarR.PNG?raw=true)\n"
   ]
  },
  {
   "cell_type": "markdown",
   "metadata": {},
   "source": [
    "* Instalar Julia"
   ]
  },
  {
   "cell_type": "markdown",
   "metadata": {},
   "source": [
    "![imgJulia](https://github.com/TinaValeSierraL/MetodosNumericos/blob/master/Imagenes/installJulia.PNG?raw=true)"
   ]
  },
  {
   "cell_type": "markdown",
   "metadata": {},
   "source": [
    "### Instalar packages R"
   ]
  },
  {
   "cell_type": "code",
   "execution_count": null,
   "metadata": {},
   "outputs": [],
   "source": []
  }
 ],
 "metadata": {
  "kernelspec": {
   "display_name": "Python 3",
   "language": "python",
   "name": "python3"
  },
  "language_info": {
   "codemirror_mode": {
    "name": "ipython",
    "version": 3
   },
   "file_extension": ".py",
   "mimetype": "text/x-python",
   "name": "python",
   "nbconvert_exporter": "python",
   "pygments_lexer": "ipython3",
   "version": "3.7.4"
  }
 },
 "nbformat": 4,
 "nbformat_minor": 4
}
