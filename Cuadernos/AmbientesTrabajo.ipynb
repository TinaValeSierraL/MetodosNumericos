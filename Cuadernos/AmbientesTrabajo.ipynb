{
 "cells": [
  {
   "cell_type": "markdown",
   "metadata": {},
   "source": [
    "##### Creando nuevos ambientes.\n",
    "\n",
    "*Es importante crear nuevos ambientes de trabajo, ya que podemos equivocarnos, instalar algo incorrecto o no compatible y asi dejar Base quieto, qué es base? El root de anaconda.*"
   ]
  },
  {
   "cell_type": "markdown",
   "metadata": {},
   "source": [
    "### Crear Ambiente de trabajo\n",
    "\n",
    "* Crear un ambiente de trabajo tf2\n",
    "* Instalar jupyter\n",
    "\n",
    "![ImgJupyter](https://github.com/TinaValeSierraL/MetodosNumericos/blob/master/Imagenes/JupyterLab.PNG?raw=true)\n",
    "\n",
    "* Instalar jupyterLab\n",
    "\n",
    "![ImgJupyterLab](https://github.com/TinaValeSierraL/MetodosNumericos/blob/master/Imagenes/jupyterLab1.PNG?raw=true)\n",
    "\n",
    "**La version de python que instalo es 3.8.1**\n",
    "\n",
    "\n",
    "* Instalar tensorflow\n",
    "No podemos instalar tensorflow porque no es compatible con la version que esta instalada de python, para eso es mejor instalar primero tensor flow que lo anterior.\n",
    "\n",
    "![ImgTensorFlow](https://github.com/TinaValeSierraL/MetodosNumericos/blob/master/Imagenes/tensorFlow.PNG?raw=true)"
   ]
  },
  {
   "cell_type": "markdown",
   "metadata": {},
   "source": [
    "### Crear ambiente CLASE\n",
    "\n",
    "* Instalar Jupyter\n",
    "\n",
    "![imgJupyter](https://github.com/TinaValeSierraL/MetodosNumericos/blob/master/Imagenes/claseJupyter.PNG?raw=true)\n",
    "\n",
    "* Instalar Numpy\n",
    "\n",
    "Version de numpy 1.8, es la mas actual\n",
    "\n",
    "![imgNumpy](https://github.com/TinaValeSierraL/MetodosNumericos/blob/master/Imagenes/claseNumpy.PNG?raw=true)\n",
    "\n"
   ]
  },
  {
   "cell_type": "code",
   "execution_count": null,
   "metadata": {},
   "outputs": [],
   "source": []
  }
 ],
 "metadata": {
  "kernelspec": {
   "display_name": "Python 3",
   "language": "python",
   "name": "python3"
  },
  "language_info": {
   "codemirror_mode": {
    "name": "ipython",
    "version": 3
   },
   "file_extension": ".py",
   "mimetype": "text/x-python",
   "name": "python",
   "nbconvert_exporter": "python",
   "pygments_lexer": "ipython3",
   "version": "3.7.4"
  }
 },
 "nbformat": 4,
 "nbformat_minor": 4
}
