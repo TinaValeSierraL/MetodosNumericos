{
 "cells": [
  {
   "cell_type": "markdown",
   "metadata": {},
   "source": [
    "### Clase 3 \n",
    "\n",
    "Existen manejadores de paquetes, y asi mismo sus respectivos comandos, entre ellos estan, **pip** que nos sirve para instalar python y todas las versiones mas recientes de los paquetes.\n",
    "\n",
    "Con el tiempo, iremos identificando que paquete se debe instalar primero, pero es importante que tengamo en cuenta que TensorFlow debe ser intalado antes de juppyter. \n",
    "\n"
   ]
  },
  {
   "cell_type": "markdown",
   "metadata": {},
   "source": [
    "#### Aprendiendo a manejar GITHUB\n",
    "\n",
    "* Para crear carpetas, es suficiente con presionar \"shit 7\" o para ser mas claros, colocar (/), las carpetas no pueden quedar vacias, es mejor crear un archivo txt, ese llegara a servir de documentación para esta carpeta. \n",
    "\n",
    "![Crear Carpeta](https://github.com/TinaValeSierraL/MetodosNumericos/blob/master/Imagenes/image.png)\n"
   ]
  },
  {
   "cell_type": "markdown",
   "metadata": {},
   "source": [
    "#### Cosas a no olvidar \n",
    "\n",
    "* Instalar Julia 1.2.0 y R. \n",
    "* Debo aprender R en estadistica.\n",
    "* Monty Python /  Comedia! "
   ]
  },
  {
   "cell_type": "markdown",
   "metadata": {},
   "source": [
    "#### Aprendiendo Python. / Principal lenguaje de la ciencia de datos. \n",
    "\n",
    "\n",
    "* Print -> Metodo que utilizamos para imprimir un texto cualquiera.\n",
    "* if -> Si la condicion es verdadera, hara lo siguiente de los 2 puntos, eso debe estar identado al menos con un estacion, si no ejecutara error. \n",
    "* Else -> El uso del *else* debe estar en la misma identacion que su correspondiente if."
   ]
  },
  {
   "cell_type": "code",
   "execution_count": 1,
   "metadata": {},
   "outputs": [
    {
     "name": "stdout",
     "output_type": "stream",
     "text": [
      "Valentina Sierra, esta aprendiendo python\n"
     ]
    }
   ],
   "source": [
    "#Ejemplo de print \n",
    "\n",
    "print(\"Valentina Sierra, esta aprendiendo python\")"
   ]
  },
  {
   "cell_type": "code",
   "execution_count": 6,
   "metadata": {},
   "outputs": [
    {
     "name": "stdout",
     "output_type": "stream",
     "text": [
      "CINCO ES MAYOR A TRES\n"
     ]
    }
   ],
   "source": [
    "#Ejemplo de if\n",
    "\n",
    "if 5 > 3:\n",
    " print(\"CINCO ES MAYOR A TRES\")  "
   ]
  },
  {
   "cell_type": "code",
   "execution_count": 7,
   "metadata": {},
   "outputs": [
    {
     "ename": "IndentationError",
     "evalue": "expected an indented block (<ipython-input-7-7e94b0ca2bbb>, line 4)",
     "output_type": "error",
     "traceback": [
      "\u001b[1;36m  File \u001b[1;32m\"<ipython-input-7-7e94b0ca2bbb>\"\u001b[1;36m, line \u001b[1;32m4\u001b[0m\n\u001b[1;33m    print(\"CINCO ES MAYOR A TRES\")\u001b[0m\n\u001b[1;37m        ^\u001b[0m\n\u001b[1;31mIndentationError\u001b[0m\u001b[1;31m:\u001b[0m expected an indented block\n"
     ]
    }
   ],
   "source": [
    "#Ejemplo de error. \n",
    "\n",
    "if 5 > 3:\n",
    "print(\"CINCO ES MAYOR A TRES\")  "
   ]
  },
  {
   "cell_type": "code",
   "execution_count": null,
   "metadata": {},
   "outputs": [],
   "source": []
  }
 ],
 "metadata": {
  "kernelspec": {
   "display_name": "Python 3",
   "language": "python",
   "name": "python3"
  },
  "language_info": {
   "codemirror_mode": {
    "name": "ipython",
    "version": 3
   },
   "file_extension": ".py",
   "mimetype": "text/x-python",
   "name": "python",
   "nbconvert_exporter": "python",
   "pygments_lexer": "ipython3",
   "version": "3.7.4"
  }
 },
 "nbformat": 4,
 "nbformat_minor": 2
}
